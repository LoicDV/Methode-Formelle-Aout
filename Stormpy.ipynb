{
 "cells": [
  {
   "cell_type": "markdown",
   "metadata": {},
   "source": [
    "Ce notebook a pour but de donner un point de vue à l'aide des méthodes formelles les limites théoriques du jeu du blackjack. \\\n",
    "Nous allons pour cela utiliser la librairie \"stormpy\" qui permet de faire des calculs sur les chaînes de Markov. \\\n",
    "Pour ce faire, nous allons créer un dtmc (discrete-time Markov chain) qui représentera notre jeu du blackjack et à l'aide de propriétés, pouvoir tester cette limite théorique.\n",
    "\n",
    "Pour la réallisation de ce notebook, je me suis basé sur la documentation de stormpy (https://moves-rwth.github.io/stormpy/) mais également sur leur exemple de DTMC (https://moves-rwth.github.io/stormpy/doc/models/building_dtmcs.html)"
   ]
  },
  {
   "cell_type": "markdown",
   "metadata": {},
   "source": [
    "## 1. Importation des librairies"
   ]
  },
  {
   "cell_type": "code",
   "execution_count": 1,
   "metadata": {},
   "outputs": [
    {
     "name": "stderr",
     "output_type": "stream",
     "text": [
      "/home/fmsd/.local/lib/python3.10/site-packages/gymnasium/envs/registration.py:521: UserWarning: \u001b[33mWARN: Overriding environment GymV26Environment-v0 already in registry.\u001b[0m\n",
      "  logger.warn(f\"Overriding environment {new_spec.id} already in registry.\")\n",
      "/home/fmsd/.local/lib/python3.10/site-packages/gymnasium/envs/registration.py:521: UserWarning: \u001b[33mWARN: Overriding environment GymV22Environment-v0 already in registry.\u001b[0m\n",
      "  logger.warn(f\"Overriding environment {new_spec.id} already in registry.\")\n"
     ]
    }
   ],
   "source": [
    "import gymnasium as gym # environnement.\n",
    "import pickle # sauvegarde de notre modèle.\n",
    "import stormpy # librairie pour les chaînes de Markov."
   ]
  },
  {
   "cell_type": "markdown",
   "metadata": {},
   "source": [
    "## 2. Création de l'environnement"
   ]
  },
  {
   "cell_type": "code",
   "execution_count": 2,
   "metadata": {},
   "outputs": [],
   "source": [
    "# Crée l'environnement blackjack.\n",
    "# natural = True : Si le joueur fait 21 avec deux cartes (As + 10), il obtient une reward plus élevée.\n",
    "# sab = True : natural est ignoré (reward de 1 même si 21 avec deux cartes) et si le joueur ainsi que le croupier font 21, il s'agira d'un match nul.\n",
    "env = gym.make('Blackjack-v1', natural=False, sab=True)"
   ]
  },
  {
   "cell_type": "markdown",
   "metadata": {},
   "source": [
    "## 3. Création du DTMC"
   ]
  },
  {
   "cell_type": "code",
   "execution_count": 6,
   "metadata": {},
   "outputs": [],
   "source": [
    "nb_poss = 19*21*2 # Toutes les possibilités du jeu (19 pour le joueur, 21 pour le croupier, 2 si As utilisable ou non).\n",
    "nb_actions = 2 # Soit on pioche, soit on reste.\n",
    "\n",
    "def make_dtmc_blackjack(n_obs, n_act):\n",
    "    builder = stormpy.SparseMatrixBuilder(rows=0, columns=0, entries=0, force_dimension=False, has_custom_row_grouping=True, row_groups=0)\n",
    "    \n",
    "    # Label pour nos états.\n",
    "    state_labeling = stormpy.storage.StateLabeling(nb_poss)\n",
    "    labels = {\"init\", \"win\", \"loose\"}\n",
    "    for label in labels:\n",
    "        state_labeling.add_label(label)\n",
    "        \n",
    "    # Label pour les actions.\n",
    "    action_labeling = stormpy.storage.ChoiceLabeling(nb_poss * nb_actions)\n",
    "    labels = {\"stick_1\", \"stick_2\", \"stick_3\", \"stick_4\", \"stick_5\", \"stick_6\", \"stick_7\", \"stick_8\", \"stick_9\", \"stick_10\", \"stick_11\", \"hit_1\", \"hit_2\", \"hit_3\", \"hit_4\", \"hit_5\", \"hit_6\", \"hit_7\", \"hit_8\", \"hit_9\", \"hit_10\", \"hit_11\", \"finish\", \"back\"}\n",
    "    for label in labels:\n",
    "        action_labeling.add_label(label)\n",
    "    \n",
    "    for pc in range(4, 23): # 19 possibilités au total.\n",
    "        for cr in range(2, 23): # 21 possibilités au total.\n",
    "            # Matrice de transition.\n",
    "            builder.new_row_group(((pc-4)*10 + (cr-2)) * nb_actions) # Sans As utilisable.\n",
    "            builder.new_row_group(((pc+14)*10 + (cr-2)) * nb_actions) # Avec As utilisable.\n",
    "            \n",
    "            # Ajout des labels sur les états.\n",
    "            if (pc <= 21) and (cr <= 11):\n",
    "                state_labeling.add_label_to_state(\"init\", (pc-4)*10 + (cr-2))\n",
    "                state_labeling.add_label_to_state(\"init\", (pc+14)*10 + (cr-2))\n",
    "            elif ((17 <= cr) and (cr <= pc) and (pc <= 21)) or ((pc <= 21) and (cr == 22)):\n",
    "                state_labeling.add_label_to_state(\"win\", (pc-4)*10 + (cr-2))\n",
    "                state_labeling.add_label_to_state(\"win\", (pc+14)*10 + (cr-2))\n",
    "            elif ((17 <= cr) and (pc <= cr)) or (pc == 22):\n",
    "                state_labeling.add_label_to_state(\"loose\", (pc-4)*10 + (cr-2))\n",
    "                state_labeling.add_label_to_state(\"loose\", (pc+14)*10 + (cr-2))\n",
    "                \n",
    "            # Ajout des actions.\n",
    "            for action in range(nb_action):\n",
    "                # action = stick = 0.\n",
    "                if cr < 17:\n",
    "                    if cr <= 10:\n",
    "                        for carte in range(2, 12):\n",
    "                            if carte == 10:\n",
    "                                builder.add_next_value((pc-4)*10 + (cr-2), (pc-4)*10 + (cr-2) + carte, 2/5)\n",
    "                                action_labeling.add_label_to_choice(\"stick_\" + str(carte), (pc-4)*10 + (cr-2) + carte)\n",
    "                            elif carte == 11:\n",
    "                                builder.add_next_value((pc-4)*10 + (cr-2), (pc+14)*10 + (cr-2) + carte, 1/10)\n",
    "                                action_labeling.add_label_to_choice(\"stick_\" + str(carte), (pc-4)*10 + (cr-2) + carte)\n",
    "                            else:\n",
    "                                builder.add_next_value((pc-4)*10 + (cr-2), (pc-4)*10 + (cr-2) + carte, 1/10)\n",
    "                                action_labeling.add_label_to_choice(\"stick_\" + str(carte), (pc-4)*10 + (cr-2) + carte)\n",
    "                    elif cr <= 12:\n",
    "                        for carte in range(1, 11):\n",
    "                            if carte == 10:\n",
    "                                builder.add_next_value((pc-4)*10 + (cr-2), (pc-4)*10 + (cr-2) + carte, 2/5)\n",
    "                                action_labeling.add_label_to_choice(\"stick_\" + str(carte), (pc-4)*10 + (cr-2) + carte)\n",
    "                            else:\n",
    "                                builder.add_next_value((pc-4)*10 + (cr-2), (pc-4)*10 + (cr-2) + carte, 1/10)\n",
    "                                action_labeling.add_label_to_choice(\"stick_\" + str(carte), (pc-4)*10 + (cr-2) + carte)\n",
    "                    else:\n",
    "                        for carte in range(1, 11):\n",
    "                            if carte >= (22 - cr):\n",
    "                                # 10-carte pour les nombres qui font que carte + cr >= 22 et +4 pour J, D, R qui ne sont pas dedans car aussi de valeur 10.\n",
    "                                builder.add_next_value((pc-4)*10 + (cr-2), (pc-4)*10 + (cr-2) + carte, (11 - carte + 4)/10)\n",
    "                                for i in range(carte, 11):\n",
    "                                    action_labeling.add_label_to_choice(\"stick_\" + str(i), (pc-4)*10 + (cr-2) + carte)\n",
    "                                # Tous les cas sont gérés.\n",
    "                                break\n",
    "                            else:\n",
    "                                builder.add_next_value((pc-4)*10 + (cr-2), (pc-4)*10 + (cr-2) + carte, 1/10)\n",
    "                                action_labeling.add_label_to_choice(\"stick_\" + str(carte), (pc-4)*10 + (cr-2) + carte)\n",
    "                else:\n",
    "                    builder.add_next_value((pc-4)*10 + (cr-2), (pc-4)*10 + (cr-2), 1)\n",
    "                    action_labeling.add_label_to_choice(\"finish\", (pc-4)*10 + (cr-2))\n",
    "                                \n",
    "                \n",
    "                #action = hit = 1.\n",
    "                if pc <= 10:\n",
    "                    for carte in range(2, 12):\n",
    "                        if carte == 10:\n",
    "                            builder.add_next_value((pc-4)*10 + (cr-2), (pc-4+carte)*10 + (cr-2), 2/5)\n",
    "                            action_labeling.add_label_to_choice(\"hit_\" + str(carte), (pc-4+carte)*10 + (cr-2))\n",
    "                        elif carte == 11:\n",
    "                            builder.add_next_value((pc-4)*10 + (cr-2), (pc+14+carte)*10 + (cr-2), 1/10)\n",
    "                            action_labeling.add_label_to_choice(\"hit_\" + str(carte), (pc+14+carte)*10 + (cr-2))\n",
    "                        else:\n",
    "                            builder.add_next_value((pc-4)*10 + (cr-2), (pc-4+carte)*10 + (cr-2), 1/10)\n",
    "                            action_labeling.add_label_to_choice(\"hit_\" + str(carte), (pc-4+carte)*10 + (cr-2))\n",
    "                elif pc <= 12:\n",
    "                    pass\n",
    "    \n",
    "    # Mettre tous les composents ensemble.\n",
    "    components = stormpy.SparseModelComponents(transition_matrix=transition_matrix, state_labeling=state_labeling, rate_transition=False)\n",
    "    components.choice_labeling = action_labeling\n",
    "    \n",
    "    # Créer notre MDP.\n",
    "    dtmc = stormpy.storage.SparseDtmc(components)\n",
    "    \n",
    "    return dtmc"
   ]
  }
 ],
 "metadata": {
  "kernelspec": {
   "display_name": "Python 3 (ipykernel)",
   "language": "python",
   "name": "python3"
  },
  "language_info": {
   "codemirror_mode": {
    "name": "ipython",
    "version": 3
   },
   "file_extension": ".py",
   "mimetype": "text/x-python",
   "name": "python",
   "nbconvert_exporter": "python",
   "pygments_lexer": "ipython3",
   "version": "3.10.12"
  }
 },
 "nbformat": 4,
 "nbformat_minor": 2
}
