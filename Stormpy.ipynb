{
 "cells": [
  {
   "cell_type": "markdown",
   "metadata": {},
   "source": [
    "Ce notebook a pour but de donner un point de vue à l'aide des méthodes formelles les limites théoriques du jeu du blackjack. \\\n",
    "Nous allons pour cela utiliser la librairie \"stormpy\" qui permet de faire des calculs sur les chaînes de Markov. \\\n",
    "Pour ce faire, nous allons créer un dtmc (discrete-time Markov chain) qui représentera notre jeu du blackjack et à l'aide de propriétés, pouvoir tester cette limite théorique."
   ]
  },
  {
   "cell_type": "markdown",
   "metadata": {},
   "source": [
    "## 1. Importation des librairies"
   ]
  },
  {
   "cell_type": "code",
   "execution_count": null,
   "metadata": {},
   "outputs": [],
   "source": [
    "import gymnasium as gym # environnement.\n",
    "import pickle # sauvegarde de notre modèle.\n",
    "import matplotlib.pyplot as plt # affichage des graphiques.\n",
    "import numpy as np # manipulation de matrices.\n",
    "import pandas as pd # manipulation de dataframes.\n",
    "import seaborn as sns # affichage des graphiques.\n",
    "import stormpy # librairie pour les chaînes de Markov."
   ]
  },
  {
   "cell_type": "markdown",
   "metadata": {},
   "source": [
    "## 2. Création de l'environnement"
   ]
  },
  {
   "cell_type": "code",
   "execution_count": null,
   "metadata": {},
   "outputs": [],
   "source": [
    "# Crée l'environnement blackjack.\n",
    "# natural = True : Si le joueur fait 21 avec deux cartes (As + 10), il obtient une reward plus élevée.\n",
    "# sab = True : natural est ignoré (reward de 1 même si 21 avec deux cartes) et si le joueur ainsi que le croupier font 21, il s'agira d'un match nul.\n",
    "env = gym.make('Blackjack-v1', natural=False, sab=True)"
   ]
  },
  {
   "cell_type": "markdown",
   "metadata": {},
   "source": [
    "## 3. Création du DTMC"
   ]
  },
  {
   "cell_type": "code",
   "execution_count": null,
   "metadata": {},
   "outputs": [],
   "source": []
  },
  {
   "cell_type": "markdown",
   "metadata": {},
   "source": [
    "## 4. Création de la propriété"
   ]
  },
  {
   "cell_type": "code",
   "execution_count": null,
   "metadata": {},
   "outputs": [],
   "source": []
  },
  {
   "cell_type": "markdown",
   "metadata": {},
   "source": [
    "## 5. "
   ]
  },
  {
   "cell_type": "code",
   "execution_count": null,
   "metadata": {},
   "outputs": [],
   "source": []
  }
 ],
 "metadata": {
  "language_info": {
   "name": "python"
  },
  "orig_nbformat": 4
 },
 "nbformat": 4,
 "nbformat_minor": 2
}
