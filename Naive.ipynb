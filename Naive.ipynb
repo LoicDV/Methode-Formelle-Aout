{
 "cells": [
  {
   "attachments": {},
   "cell_type": "markdown",
   "metadata": {},
   "source": [
    "Le but de ce notebook est de tester une méthode de résolution naïve avec des conditions. \\\n",
    "Elle a pour but d'être simple et de tester principalement l'environnement de travail pour pouvoir ensuite tester des méthodes plus complexes comme le SARSA, des DNN et bien d'autres."
   ]
  },
  {
   "attachments": {},
   "cell_type": "markdown",
   "metadata": {},
   "source": [
    "## 1. Importation des librairies"
   ]
  },
  {
   "cell_type": "code",
   "execution_count": 8,
   "metadata": {},
   "outputs": [],
   "source": [
    "import gymnasium as gym # environnement.\n",
    "import pickle # sauvegarde de notre modèle.\n",
    "import matplotlib.pyplot as plt # affichage des graphiques."
   ]
  },
  {
   "attachments": {},
   "cell_type": "markdown",
   "metadata": {},
   "source": [
    "## 2. Création de l'environnement"
   ]
  },
  {
   "cell_type": "code",
   "execution_count": 9,
   "metadata": {},
   "outputs": [],
   "source": [
    "# Crée l'environnement blackjack.\n",
    "# natural = True : Si le joueur fait 21 avec deux cartes (As + 10), il obtient une reward plus élevée.\n",
    "# sab = True : natural est ignoré (reward de 1 même si 21 avec deux cartes) et si le joueur ainsi que le croupier font 21, il s'agira d'un match nul.\n",
    "env = gym.make('Blackjack-v1', natural=False, sab=True)"
   ]
  },
  {
   "attachments": {},
   "cell_type": "markdown",
   "metadata": {},
   "source": [
    "## 3. Création de la fonction de résolution"
   ]
  },
  {
   "cell_type": "code",
   "execution_count": 10,
   "metadata": {},
   "outputs": [],
   "source": [
    "# observation : tuple (somme du joueur, carte visible du croupier, as utilisable par le joueur).\n",
    "# action : 0 (rester) ou 1 (tirer).\n",
    "def resolve_blackjack(observation: tuple) -> int:\n",
    "    player_sum, dealer_card, usable_ace = observation\n",
    "    if player_sum == 21 and usable_ace: # Blackjack.\n",
    "        return 0\n",
    "    if player_sum >= 17: # Au dessus de 17, risque élevé de perdre et le dealer est obligé de tirer pour être entre 17 et 21.\n",
    "        return 0\n",
    "    if player_sum <= 11: # En dessous de 11, le joueur ne peut pas perdre.\n",
    "        return 1\n",
    "    if dealer_card <= 6: # Si la carte visible du dealer est faible, soit il tire un As et se retrouvera à la limite soit il tirera en dessous de 17 et devra en repiocher une.\n",
    "        return 0\n",
    "    return 1 # Sinon, le joueur risque de perdre. (cas où la carte du dealer est supérieure à 6 et le joueur est entre 12 et 16)."
   ]
  },
  {
   "attachments": {},
   "cell_type": "markdown",
   "metadata": {},
   "source": [
    "## 4. Test de la fonction de résolution"
   ]
  },
  {
   "cell_type": "code",
   "execution_count": 11,
   "metadata": {},
   "outputs": [],
   "source": [
    "# Paramètres pour le test.\n",
    "total_episodes = 1000000\n",
    "total_win = 0\n",
    "total_loose = 0\n",
    "total_draw = 0\n",
    "\n",
    "for episode in range(total_episodes):\n",
    "\n",
    "    # Début de notre environnement pour le résoudre.\n",
    "    depart = env.reset()[0]\n",
    "    action = resolve_blackjack(depart)\n",
    "    observation, reward, done, _, _ = env.step(action)\n",
    "\n",
    "    # Boucle pour éxécuter plusieurs actions si nécessaire jusqu'à ce que le jeu soit terminé.\n",
    "    while not done:\n",
    "        action = resolve_blackjack(observation)\n",
    "        observation, reward, done, _, _ = env.step(action)\n",
    "\n",
    "    # Compréhension du résultat du jeu.\n",
    "    if reward == 1:\n",
    "        total_win += 1\n",
    "    elif reward == -1:\n",
    "        total_loose += 1\n",
    "    else:\n",
    "        total_draw += 1\n",
    "\n",
    "env.close()"
   ]
  },
  {
   "attachments": {},
   "cell_type": "markdown",
   "metadata": {},
   "source": [
    "## 5. Interprétation des résultats"
   ]
  },
  {
   "cell_type": "code",
   "execution_count": 12,
   "metadata": {},
   "outputs": [
    {
     "data": {
      "image/png": "[encoded data removed]",
      "text/plain": [
       "<Figure size 640x480 with 1 Axes>"
      ]
     },
     "metadata": {},
     "output_type": "display_data"
    },
    {
     "name": "stdout",
     "output_type": "stream",
     "text": [
      "Win : 42.4963 %\n",
      "Loose : 48.8664 %\n",
      "Draw : 8.6373 %\n"
     ]
    }
   ],
   "source": [
    "# Affichage des résultats.\n",
    "plt.bar(['Win', 'Loose', 'Draw'], [total_win, total_loose, total_draw])\n",
    "plt.show()\n",
    "# Pourcentage des résultats.\n",
    "print('Win :', total_win / total_episodes * 100, '%')\n",
    "print('Loose :', total_loose / total_episodes * 100, '%')\n",
    "print('Draw :', total_draw / total_episodes * 100, '%')"
   ]
  }
 ],
 "metadata": {
  "kernelspec": {
   "display_name": "Python 3",
   "language": "python",
   "name": "python3"
  },
  "language_info": {
   "codemirror_mode": {
    "name": "ipython",
    "version": 3
   },
   "file_extension": ".py",
   "mimetype": "text/x-python",
   "name": "python",
   "nbconvert_exporter": "python",
   "pygments_lexer": "ipython3",
   "version": "3.9.2"
  },
  "orig_nbformat": 4
 },
 "nbformat": 4,
 "nbformat_minor": 2
}
