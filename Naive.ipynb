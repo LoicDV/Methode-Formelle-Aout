{
 "cells": [
  {
   "attachments": {},
   "cell_type": "markdown",
   "metadata": {},
   "source": [
    "Le but de ce notebook est de tester une méthode de résolution naïve avec des conditions. \\\n",
    "Elle a pour but d'être simple et de tester principalement l'environnement de travail pour pouvoir ensuite tester des méthodes plus complexes comme le SARSA, des DNN et bien d'autres."
   ]
  },
  {
   "attachments": {},
   "cell_type": "markdown",
   "metadata": {},
   "source": [
    "## 1. Importation des librairies"
   ]
  },
  {
   "cell_type": "code",
   "execution_count": 1,
   "metadata": {},
   "outputs": [],
   "source": [
    "import gymnasium as gym # environnement.\n",
    "from tools import * # fonctions utiles."
   ]
  },
  {
   "attachments": {},
   "cell_type": "markdown",
   "metadata": {},
   "source": [
    "## 2. Création de l'environnement"
   ]
  },
  {
   "cell_type": "code",
   "execution_count": 2,
   "metadata": {},
   "outputs": [],
   "source": [
    "# Crée l'environnement blackjack.\n",
    "# natural = True : Si le joueur fait 21 avec deux cartes (As + 10), il obtient une reward plus élevée.\n",
    "# sab = True : natural est ignoré (reward de 1 même si 21 avec deux cartes) et si le joueur ainsi que le croupier font 21, il s'agira d'un match nul.\n",
    "env = gym.make('Blackjack-v1', natural=False, sab=True)"
   ]
  },
  {
   "attachments": {},
   "cell_type": "markdown",
   "metadata": {},
   "source": [
    "## 3. Test de la fonction de résolution"
   ]
  },
  {
   "cell_type": "code",
   "execution_count": 3,
   "metadata": {},
   "outputs": [],
   "source": [
    "# Paramètres pour le test.\n",
    "total_episodes = 1_000_000\n",
    "total_win = 0\n",
    "total_loose = 0\n",
    "total_draw = 0\n",
    "\n",
    "for episode in range(total_episodes):\n",
    "\n",
    "    # Début de notre environnement pour le résoudre.\n",
    "    depart = env.reset()[0]\n",
    "    action = resolve_blackjack(depart) # Méthode dans le fichier tools.py\n",
    "    observation, reward, done, _, _ = env.step(action)\n",
    "\n",
    "    # Boucle pour éxécuter plusieurs actions si nécessaire jusqu'à ce que le jeu soit terminé.\n",
    "    while not done:\n",
    "        action = resolve_blackjack(observation)\n",
    "        observation, reward, done, _, _ = env.step(action)\n",
    "\n",
    "    # Compréhension du résultat du jeu.\n",
    "    if reward == 1:\n",
    "        total_win += 1\n",
    "    elif reward == -1:\n",
    "        total_loose += 1\n",
    "    else:\n",
    "        total_draw += 1\n",
    "\n",
    "env.close()"
   ]
  },
  {
   "attachments": {},
   "cell_type": "markdown",
   "metadata": {},
   "source": [
    "## 4. Interprétation des résultats"
   ]
  },
  {
   "cell_type": "code",
   "execution_count": 4,
   "metadata": {},
   "outputs": [
    {
     "data": {
      "image/png": "[encoded data removed]",
      "text/plain": [
       "<Figure size 640x480 with 1 Axes>"
      ]
     },
     "metadata": {},
     "output_type": "display_data"
    },
    {
     "name": "stdout",
     "output_type": "stream",
     "text": [
      "Win : 42.6384 %\n",
      "Loose : 48.6985 %\n",
      "Draw : 8.6631 %\n"
     ]
    }
   ],
   "source": [
    "barplot(total_win, total_loose, total_draw, total_episodes) # Voir fichier tools.py"
   ]
  }
 ],
 "metadata": {
  "kernelspec": {
   "display_name": "Python 3",
   "language": "python",
   "name": "python3"
  },
  "language_info": {
   "codemirror_mode": {
    "name": "ipython",
    "version": 3
   },
   "file_extension": ".py",
   "mimetype": "text/x-python",
   "name": "python",
   "nbconvert_exporter": "python",
   "pygments_lexer": "ipython3",
   "version": "3.9.2"
  },
  "orig_nbformat": 4
 },
 "nbformat": 4,
 "nbformat_minor": 2
}
