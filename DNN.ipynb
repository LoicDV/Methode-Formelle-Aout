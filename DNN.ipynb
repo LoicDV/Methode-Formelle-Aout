{
 "cells": [
  {
   "cell_type": "markdown",
   "metadata": {},
   "source": [
    "Ce notebook a pour but de tester une autre approche de learning qui consiste à l'utilisation de DNN (Deep Neural Network) pour la prise de décision dans notre jeu. \\\n",
    "Le procédé est presque identique à celui du Q-Learning, sauf que cette fois-ci, on utilise un réseau de neurones au lieu d'une Q-table. \\\n",
    "On appelle cette méthode le Deep Q-Learning.\n",
    "\n",
    "Pour faire ce code, je me suis inspiré de cette personne : https://github.com/fakemonk1/Reinforcement-Learning-Lunar_Lander/blob/master/Lunar_Lander.py"
   ]
  },
  {
   "cell_type": "markdown",
   "metadata": {},
   "source": [
    "## 1. Importation des librairies"
   ]
  },
  {
   "cell_type": "code",
   "execution_count": 1,
   "metadata": {},
   "outputs": [],
   "source": [
    "import gymnasium as gym # environnement.\n",
    "from tools import * # fonctions utiles."
   ]
  },
  {
   "cell_type": "markdown",
   "metadata": {},
   "source": [
    "## 2. Création de l'environnement"
   ]
  },
  {
   "cell_type": "code",
   "execution_count": 2,
   "metadata": {},
   "outputs": [],
   "source": [
    "# Crée l'environnement blackjack.\n",
    "# natural = True : Si le joueur fait 21 avec deux cartes (As + 10), il obtient une reward plus élevée.\n",
    "# sab = True : natural est ignoré (reward de 1 même si 21 avec deux cartes) et si le joueur ainsi que le croupier font 21, il s'agira d'un match nul.\n",
    "env = gym.make('Blackjack-v1', natural=False, sab=True)"
   ]
  },
  {
   "cell_type": "markdown",
   "metadata": {},
   "source": [
    "# Sans bouclier"
   ]
  },
  {
   "cell_type": "markdown",
   "metadata": {},
   "source": [
    "## 3. Entrainement de l'Agent"
   ]
  },
  {
   "cell_type": "code",
   "execution_count": null,
   "metadata": {},
   "outputs": [],
   "source": [
    "# Paramètres pour l'entrainement.\n",
    "total_train_episodes = 5_000\n",
    "alpha = 0.2\n",
    "gamma = 0.3\n",
    "epsilon_schedule = creation_epsilon_schedule(total_train_episodes) # Voir fichier tools.py\n",
    "\n",
    "# Notre agent.\n",
    "agent = Agent(env, alpha, gamma, False) # Voir fichier tools.py\n",
    "\n",
    "# Entrainement de notre agent.\n",
    "for episode in range(total_train_episodes):\n",
    "    # Voir la progression de l'entrainement.\n",
    "    if episode % 100 == 0:\n",
    "        print(f'Episode {episode+1}')\n",
    "\n",
    "    # Début de notre environnement pour le résoudre.\n",
    "    first_obs = env.reset()[0]\n",
    "    action = agent.action_training(first_obs, epsilon_schedule[episode]) # Voir fichier tools.py\n",
    "    second_obs, reward, done, _, _ = env.step(action)\n",
    "    agent.remember(first_obs, action, reward, second_obs, done) # Voir fichier tools.py\n",
    "\n",
    "    # Boucle pour éxécuter plusieurs actions si nécessaire jusqu'à ce que le jeu soit terminé.\n",
    "    while not done:\n",
    "        action = agent.action_training(second_obs, epsilon_schedule[episode]) # Voir fichier tools.py\n",
    "        next_obs, reward, done, _, _ = env.step(action)\n",
    "        agent.remember(second_obs, action, reward, next_obs, done) # Voir fichier tools.py\n",
    "        second_obs = next_obs\n",
    "    \n",
    "    agent.train(16)\n",
    "\n",
    "env.close()"
   ]
  },
  {
   "cell_type": "markdown",
   "metadata": {},
   "source": [
    "## 4. Sauvegarde du modèle"
   ]
  },
  {
   "cell_type": "code",
   "execution_count": 7,
   "metadata": {},
   "outputs": [],
   "source": [
    "# Sauvegarde le DNN de notre agent.\n",
    "agent.save('DNN_noshield.h5') # Voir fichier tools.py"
   ]
  },
  {
   "cell_type": "markdown",
   "metadata": {},
   "source": [
    "## 5. Chargement du modèle"
   ]
  },
  {
   "cell_type": "code",
   "execution_count": 10,
   "metadata": {},
   "outputs": [],
   "source": [
    "# Chargement du DNN de notre agent.\n",
    "agent = Agent(env, alpha, gamma, False) # Voir fichier tools.py\n",
    "alpha = 0.2\n",
    "gamma = 0.3\n",
    "agent.load('DNN_noshield.h5') # Voir fichier tools.py"
   ]
  },
  {
   "cell_type": "markdown",
   "metadata": {},
   "source": [
    "## 6. Test de notre agent"
   ]
  },
  {
   "cell_type": "code",
   "execution_count": null,
   "metadata": {},
   "outputs": [],
   "source": [
    "# Paramètres pour le test.\n",
    "total_episodes = 1_000\n",
    "total_win = 0\n",
    "total_draw = 0\n",
    "total_loose = 0\n",
    "\n",
    "for episode in range(total_episodes):\n",
    "\n",
    "    if episode % 100 == 0:\n",
    "        print(f'Episode {episode+1}')\n",
    "    \n",
    "    # Début de notre environnement pour le résoudre.\n",
    "    first_obs = env.reset()[0]\n",
    "    action = agent.action(first_obs) # Voir fichier tools.py\n",
    "    second_obs, reward, done, _, _ = env.step(action)\n",
    "\n",
    "    # Boucle pour éxécuter plusieurs actions si nécessaire jusqu'à ce que le jeu soit terminé.\n",
    "    while not done:\n",
    "        action = agent.action(second_obs) # Voir fichier tools.py\n",
    "        next_obs, reward, done, _, _ = env.step(action)\n",
    "        second_obs = next_obs\n",
    "    \n",
    "    # Compréhension du résultat du jeu.\n",
    "    if reward == 1:\n",
    "        total_win += 1\n",
    "    elif reward == -1:\n",
    "        total_loose += 1\n",
    "    else:\n",
    "        total_draw += 1\n",
    "\n",
    "env.close()"
   ]
  },
  {
   "cell_type": "markdown",
   "metadata": {},
   "source": [
    "## 7. Interprétation des résultats"
   ]
  },
  {
   "cell_type": "code",
   "execution_count": null,
   "metadata": {},
   "outputs": [],
   "source": [
    "barplot(total_win, total_loose, total_draw, total_episodes) # Voir fichier tools.py"
   ]
  },
  {
   "cell_type": "markdown",
   "metadata": {},
   "source": [
    "# Avec bouclier"
   ]
  },
  {
   "cell_type": "markdown",
   "metadata": {},
   "source": [
    "## 8. Entrainement de l'Agent"
   ]
  },
  {
   "cell_type": "code",
   "execution_count": null,
   "metadata": {},
   "outputs": [],
   "source": [
    "# Paramètres pour l'entrainement.\n",
    "total_train_episodes = 5_000\n",
    "alpha = 0.2\n",
    "gamma = 0.3\n",
    "epsilon_schedule = creation_epsilon_schedule(total_train_episodes) # Voir fichier tools.py\n",
    "\n",
    "# Notre agent.\n",
    "agent = Agent(env, alpha, gamma, True) # Voir fichier tools.py\n",
    "\n",
    "# Entrainement de notre agent.\n",
    "for episode in range(total_train_episodes):\n",
    "    # Voir la progression de l'entrainement.\n",
    "    if episode % 100 == 0:\n",
    "        print(f'Episode {episode+1}')\n",
    "\n",
    "    # Début de notre environnement pour le résoudre.\n",
    "    first_obs = env.reset()[0]\n",
    "    action = agent.action_training(first_obs, epsilon_schedule[episode]) # Voir fichier tools.py\n",
    "    second_obs, reward, done, _, _ = env.step(action)\n",
    "    agent.remember(first_obs, action, reward, second_obs, done) # Voir fichier tools.py\n",
    "\n",
    "    # Boucle pour éxécuter plusieurs actions si nécessaire jusqu'à ce que le jeu soit terminé.\n",
    "    while not done:\n",
    "        action = agent.action_training(second_obs, epsilon_schedule[episode]) # Voir fichier tools.py\n",
    "        next_obs, reward, done, _, _ = env.step(action)\n",
    "        agent.remember(second_obs, action, reward, next_obs, done) # Voir fichier tools.py\n",
    "        second_obs = next_obs\n",
    "    \n",
    "    agent.train(16)\n",
    "\n",
    "env.close()"
   ]
  },
  {
   "cell_type": "markdown",
   "metadata": {},
   "source": [
    "## 9. Sauvegarde du modèle"
   ]
  },
  {
   "cell_type": "code",
   "execution_count": null,
   "metadata": {},
   "outputs": [],
   "source": [
    "# Sauvegarde le DNN de notre agent.\n",
    "agent.save('DNN_withshield.h5') # Voir fichier tools.py"
   ]
  },
  {
   "cell_type": "markdown",
   "metadata": {},
   "source": [
    "## 10. Chargement du modèle"
   ]
  },
  {
   "cell_type": "code",
   "execution_count": null,
   "metadata": {},
   "outputs": [],
   "source": [
    "# Chargement du DNN de notre agent.\n",
    "agent = Agent(env, alpha, gamma, True) # Voir fichier tools.py\n",
    "alpha = 0.2\n",
    "gamma = 0.3\n",
    "agent.load('DNN_withshield.h5') # Voir fichier tools.py"
   ]
  },
  {
   "cell_type": "markdown",
   "metadata": {},
   "source": [
    "## 11. Test de notre Agent"
   ]
  },
  {
   "cell_type": "code",
   "execution_count": null,
   "metadata": {},
   "outputs": [],
   "source": [
    "# Paramètres pour le test.\n",
    "total_episodes = 1_000\n",
    "total_win = 0\n",
    "total_draw = 0\n",
    "total_loose = 0\n",
    "\n",
    "for episode in range(total_episodes):\n",
    "\n",
    "    if episode % 100 == 0:\n",
    "        print(f'Episode {episode+1}')\n",
    "    \n",
    "    # Début de notre environnement pour le résoudre.\n",
    "    first_obs = env.reset()[0]\n",
    "    action = agent.action(first_obs) # Voir fichier tools.py\n",
    "    second_obs, reward, done, _, _ = env.step(action)\n",
    "\n",
    "    # Boucle pour éxécuter plusieurs actions si nécessaire jusqu'à ce que le jeu soit terminé.\n",
    "    while not done:\n",
    "        action = agent.action(second_obs)\n",
    "        next_obs, reward, done, _, _ = env.step(action)\n",
    "        second_obs = next_obs\n",
    "    \n",
    "    # Compréhension du résultat du jeu.\n",
    "    if reward == 1:\n",
    "        total_win += 1\n",
    "    elif reward == -1:\n",
    "        total_loose += 1\n",
    "    else:\n",
    "        total_draw += 1\n",
    "\n",
    "env.close()"
   ]
  },
  {
   "cell_type": "markdown",
   "metadata": {},
   "source": [
    "## 12. Interprétation des résultats"
   ]
  },
  {
   "cell_type": "code",
   "execution_count": null,
   "metadata": {},
   "outputs": [],
   "source": [
    "barplot(total_win, total_loose, total_draw, total_episodes) # Voir fichier tools.py"
   ]
  }
 ],
 "metadata": {
  "kernelspec": {
   "display_name": "Python 3",
   "language": "python",
   "name": "python3"
  },
  "language_info": {
   "codemirror_mode": {
    "name": "ipython",
    "version": 3
   },
   "file_extension": ".py",
   "mimetype": "text/x-python",
   "name": "python",
   "nbconvert_exporter": "python",
   "pygments_lexer": "ipython3",
   "version": "3.9.2"
  },
  "orig_nbformat": 4
 },
 "nbformat": 4,
 "nbformat_minor": 2
}
